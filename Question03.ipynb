{
 "cells": [
  {
   "cell_type": "code",
   "execution_count": 2,
   "id": "f46097f2-fb1a-46a0-bdd0-a65aaf58d9bd",
   "metadata": {},
   "outputs": [],
   "source": [
    "import cv2\n"
   ]
  },
  {
   "cell_type": "code",
   "execution_count": 3,
   "id": "6b727108-2c64-49fb-9c14-1766ae50ba19",
   "metadata": {},
   "outputs": [],
   "source": [
    "# Step 1: Load the Haar Cascade file for face detection\n",
    "cascade_path = r'C:\\Users\\SANDA\\Desktop\\Assignment\\opencv-master\\data\\haarcascades\\haarcascade_frontalface_default.xml'\n",
    "face_cascade = cv2.CascadeClassifier(cascade_path)"
   ]
  },
  {
   "cell_type": "code",
   "execution_count": null,
   "id": "d5aeb45d-b5b5-4bbf-bf3f-f869a3fe40af",
   "metadata": {},
   "outputs": [],
   "source": [
    "# Step 2: Load an image containing human faces\n",
    "image_path = 'Face.jpeg'  # Replace with the path to your image\n",
    "image = cv2.imread(image_path)"
   ]
  },
  {
   "cell_type": "code",
   "execution_count": null,
   "id": "ec457639-6aa3-49ae-9477-675963509416",
   "metadata": {},
   "outputs": [],
   "source": [
    "if image is None:\n",
    "    print(\"Error: Could not load the image. Please check the file path.\")\n",
    "    exit()"
   ]
  },
  {
   "cell_type": "code",
   "execution_count": null,
   "id": "9561f742-d31a-41a8-85cf-4c433a9d7695",
   "metadata": {},
   "outputs": [],
   "source": [
    "# Convert the image to grayscale for better accuracy in face detection\n",
    "gray_image = cv2.cvtColor(image, cv2.COLOR_BGR2GRAY)"
   ]
  },
  {
   "cell_type": "code",
   "execution_count": null,
   "id": "d21f932a-3985-4442-a8b1-df0b75fc6aa7",
   "metadata": {},
   "outputs": [],
   "source": [
    "# Step 3: Detect faces using Haar Cascades\n",
    "faces = face_cascade.detectMultiScale(gray_image, scaleFactor=1.1, minNeighbors=5, minSize=(30, 30))\n"
   ]
  },
  {
   "cell_type": "code",
   "execution_count": null,
   "id": "439d722a-c475-448f-a543-7e14d0610ce8",
   "metadata": {},
   "outputs": [],
   "source": [
    "# Step 4: Draw rectangles around the detected faces\n",
    "for (x, y, w, h) in faces:\n",
    "    cv2.rectangle(image, (x, y), (x + w, y + h), (0, 255, 0), 2)\n"
   ]
  },
  {
   "cell_type": "code",
   "execution_count": null,
   "id": "09ccda90-5eeb-4b96-b4aa-42559ff65711",
   "metadata": {},
   "outputs": [],
   "source": [
    "# Save the resulting image with detected faces\n",
    "output_path = 'faces_detected.jpg'\n",
    "cv2.imwrite(output_path, image)"
   ]
  },
  {
   "cell_type": "code",
   "execution_count": null,
   "id": "f4131211-189e-40e5-9153-c5cb0991a6ae",
   "metadata": {},
   "outputs": [],
   "source": [
    "# Display the output image\n",
    "cv2.imshow('Detected Faces', image)\n",
    "cv2.waitKey(0)  # Wait until a key is pressed\n",
    "cv2.destroyAllWindows()"
   ]
  },
  {
   "cell_type": "code",
   "execution_count": null,
   "id": "1787b840-bc10-49b9-bdae-3eec3d626378",
   "metadata": {},
   "outputs": [],
   "source": [
    "print(f\"Image with detected faces saved as {output_path}\")"
   ]
  },
  {
   "cell_type": "code",
   "execution_count": null,
   "id": "9c8bf526-5648-4602-a718-434618243eb2",
   "metadata": {},
   "outputs": [],
   "source": []
  }
 ],
 "metadata": {
  "kernelspec": {
   "display_name": "Python 3 (ipykernel)",
   "language": "python",
   "name": "python3"
  },
  "language_info": {
   "codemirror_mode": {
    "name": "ipython",
    "version": 3
   },
   "file_extension": ".py",
   "mimetype": "text/x-python",
   "name": "python",
   "nbconvert_exporter": "python",
   "pygments_lexer": "ipython3",
   "version": "3.12.7"
  }
 },
 "nbformat": 4,
 "nbformat_minor": 5
}
